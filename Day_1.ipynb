{
  "nbformat": 4,
  "nbformat_minor": 0,
  "metadata": {
    "colab": {
      "name": "Day 1.ipynb",
      "provenance": [],
      "authorship_tag": "ABX9TyNbA2BUFOgQehEZRvChkp5S",
      "include_colab_link": true
    },
    "kernelspec": {
      "name": "python3",
      "display_name": "Python 3"
    },
    "language_info": {
      "name": "python"
    }
  },
  "cells": [
    {
      "cell_type": "markdown",
      "metadata": {
        "id": "view-in-github",
        "colab_type": "text"
      },
      "source": [
        "<a href=\"https://colab.research.google.com/github/aparna-khandelwal/LU-Python/blob/main/Day_1.ipynb\" target=\"_parent\"><img src=\"https://colab.research.google.com/assets/colab-badge.svg\" alt=\"Open In Colab\"/></a>"
      ]
    },
    {
      "cell_type": "markdown",
      "metadata": {
        "id": "UV-9QBSJNt_G"
      },
      "source": [
        "**Assignment1** : Take input for a list and sort it in descending order\n"
      ]
    },
    {
      "cell_type": "markdown",
      "metadata": {
        "id": "AUgjlmt5OV3K"
      },
      "source": [
        ""
      ]
    },
    {
      "cell_type": "code",
      "metadata": {
        "colab": {
          "base_uri": "https://localhost:8080/"
        },
        "id": "yuFv0dGa-n1Q",
        "outputId": "ab23a152-7e3f-4758-940c-3395dfdb90bd"
      },
      "source": [
        "list1 = []\n",
        "list1 = [int(item) for item in input(\"Enter the list items : \").split()]\n",
        "list1.sort(reverse = True)  \n",
        "print(\"List in descending order:\",list1)\n"
      ],
      "execution_count": null,
      "outputs": [
        {
          "output_type": "stream",
          "text": [
            "Enter the list items : 7 9 1 5\n",
            "List in descending order: [9, 7, 5, 1]\n"
          ],
          "name": "stdout"
        }
      ]
    }
  ]
}