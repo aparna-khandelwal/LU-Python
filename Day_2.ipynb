{
  "nbformat": 4,
  "nbformat_minor": 0,
  "metadata": {
    "colab": {
      "name": "Day 2.ipynb",
      "provenance": [],
      "collapsed_sections": [],
      "authorship_tag": "ABX9TyMGv7N1VoP2v2oLqu43JMVE",
      "include_colab_link": true
    },
    "kernelspec": {
      "name": "python3",
      "display_name": "Python 3"
    },
    "language_info": {
      "name": "python"
    }
  },
  "cells": [
    {
      "cell_type": "markdown",
      "metadata": {
        "id": "view-in-github",
        "colab_type": "text"
      },
      "source": [
        "<a href=\"https://colab.research.google.com/github/aparna-khandelwal/LU-Python/blob/main/Day_2.ipynb\" target=\"_parent\"><img src=\"https://colab.research.google.com/assets/colab-badge.svg\" alt=\"Open In Colab\"/></a>"
      ]
    },
    {
      "cell_type": "markdown",
      "metadata": {
        "id": "g5DdPx2OQpZn"
      },
      "source": [
        "**Assignment 2:** \n",
        "*Remove all occurences of an element from a list*"
      ]
    },
    {
      "cell_type": "code",
      "metadata": {
        "id": "S_tbnCMo0r2w",
        "colab": {
          "base_uri": "https://localhost:8080/"
        },
        "outputId": "8481f0ae-38cb-4231-e928-c00ff032c4fd"
      },
      "source": [
        "x = [0, 8, 7, 4, 7, 7, 7,0]\n",
        "val = int(input(\"Enter element to remove occurence: \"))\n",
        "\n",
        "if val in x:\n",
        "    while val in x:\n",
        "        x.remove(val)\n",
        "else:\n",
        "    print(\"Element not found!\")\n",
        "\n",
        "print(\"\\nUpdated List:\",x)"
      ],
      "execution_count": null,
      "outputs": [
        {
          "output_type": "stream",
          "text": [
            "Enter element to remove occurence: 7\n",
            "\n",
            "Updated List: [0, 8, 4, 0]\n"
          ],
          "name": "stdout"
        }
      ]
    },
    {
      "cell_type": "markdown",
      "metadata": {
        "id": "Pf0DPTniRFBd"
      },
      "source": [
        "**Assignment 3:**\n",
        " *Check whether a string is pangram*"
      ]
    },
    {
      "cell_type": "code",
      "metadata": {
        "id": "QNdDo1gmQlrS",
        "colab": {
          "base_uri": "https://localhost:8080/"
        },
        "outputId": "b07328d8-0763-4025-8199-79b478ba0f95"
      },
      "source": [
        "import string\n",
        "\n",
        "def ispangram(str):\n",
        "   alpha = 'abcdefghijklmnopqrstuvwxyz'\n",
        "   for ch in alpha:\n",
        "      if ch not in str.lower():\n",
        "         return False\n",
        "   return True\n",
        "\n",
        "string = 'Pack my box with five dozen liquor jugs'\n",
        "\n",
        "#string = input(\"Enter String: \")\n",
        "\n",
        "if(ispangram(string) == True):\n",
        "   print(\"Yes,\" + string + \" is a palgram.\")\n",
        "else:\n",
        "   print(\"NO,\" + string + \" is not a palgram.\")\n",
        "\n"
      ],
      "execution_count": null,
      "outputs": [
        {
          "output_type": "stream",
          "text": [
            "Yes,Pack my box with five dozen liquor jugs is a palgram.\n"
          ],
          "name": "stdout"
        }
      ]
    }
  ]
}