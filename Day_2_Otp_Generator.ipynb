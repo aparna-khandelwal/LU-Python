{
  "nbformat": 4,
  "nbformat_minor": 0,
  "metadata": {
    "colab": {
      "name": "Day 2 - Otp Generator.ipynb",
      "provenance": [],
      "authorship_tag": "ABX9TyOlkXOvUEBezk+ffK02/ZhH",
      "include_colab_link": true
    },
    "kernelspec": {
      "name": "python3",
      "display_name": "Python 3"
    },
    "language_info": {
      "name": "python"
    }
  },
  "cells": [
    {
      "cell_type": "markdown",
      "metadata": {
        "id": "view-in-github",
        "colab_type": "text"
      },
      "source": [
        "<a href=\"https://colab.research.google.com/github/aparna-khandelwal/LU-Python/blob/main/Day_2_Otp_Generator.ipynb\" target=\"_parent\"><img src=\"https://colab.research.google.com/assets/colab-badge.svg\" alt=\"Open In Colab\"/></a>"
      ]
    },
    {
      "cell_type": "code",
      "metadata": {
        "colab": {
          "base_uri": "https://localhost:8080/"
        },
        "id": "_T9xKUsdYViH",
        "outputId": "2160a5b9-c9ea-44d7-965b-1bf720e37541"
      },
      "source": [
        "import math, random\n",
        "def genOTP() :\n",
        " digits = \"0123456789\"\n",
        " OTP = \"\"\n",
        " for i in range(4) :\n",
        "   OTP += digits[math.floor(random.random() * 10)]\n",
        " return OTP\n",
        "\n",
        "if __name__ == \"__main__\" :\n",
        " \n",
        " print(\"OTP :\", genOTP())\n"
      ],
      "execution_count": 5,
      "outputs": [
        {
          "output_type": "stream",
          "text": [
            "OTP : 4080\n"
          ],
          "name": "stdout"
        }
      ]
    }
  ]
}