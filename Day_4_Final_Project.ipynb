{
  "nbformat": 4,
  "nbformat_minor": 0,
  "metadata": {
    "colab": {
      "name": "Day 4 - Final Project.ipynb",
      "provenance": [],
      "authorship_tag": "ABX9TyNzOVrswb+pNszVevKGDz0k",
      "include_colab_link": true
    },
    "kernelspec": {
      "name": "python3",
      "display_name": "Python 3"
    },
    "language_info": {
      "name": "python"
    }
  },
  "cells": [
    {
      "cell_type": "markdown",
      "metadata": {
        "id": "view-in-github",
        "colab_type": "text"
      },
      "source": [
        "<a href=\"https://colab.research.google.com/github/aparna-khandelwal/LU-Python/blob/main/Day_4_Final_Project.ipynb\" target=\"_parent\"><img src=\"https://colab.research.google.com/assets/colab-badge.svg\" alt=\"Open In Colab\"/></a>"
      ]
    },
    {
      "cell_type": "code",
      "metadata": {
        "colab": {
          "base_uri": "https://localhost:8080/"
        },
        "id": "-TnlrUv3M7gV",
        "outputId": "ecbe398d-2f91-40c7-cd6a-02bceb9cd778"
      },
      "source": [
        "def CelsiusToFar():\n",
        "  degree_sign = u\"\\N{DEGREE SIGN}\"\n",
        "  celsius = float(input(\"Enter temperature in Celsius:\")) \n",
        "  fahrenheit = (celsius * 9/5) + 32\n",
        "  print(\"Temperature in fahrenheit:\",fahrenheit)\n",
        "  print(celsius ,degree_sign,\"C =\", fahrenheit ,degree_sign,\"F\")\n",
        " \n",
        "CelsiusToFar()"
      ],
      "execution_count": 24,
      "outputs": [
        {
          "output_type": "stream",
          "text": [
            "Enter temperature in Celsius:46\n",
            "Temperature in fahrenheit: 114.8\n",
            "46.0 ° C = 114.8 ° F\n"
          ],
          "name": "stdout"
        }
      ]
    }
  ]
}